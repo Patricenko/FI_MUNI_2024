{
 "cells": [
  {
   "cell_type": "markdown",
   "source": [
    "Testing this CodeThingy"
   ],
   "metadata": {
    "collapsed": false
   },
   "id": "510246062dffb6cb"
  },
  {
   "cell_type": "code",
   "outputs": [
    {
     "name": "stdout",
     "output_type": "stream",
     "text": [
      "hellou\n"
     ]
    }
   ],
   "source": [
    "def fi_MUNI_2024(*args):\n",
    "    if int(args[0]):\n",
    "        print(\"hellou\")\n",
    "fi_MUNI_2024(\"52\")"
   ],
   "metadata": {
    "collapsed": false,
    "ExecuteTime": {
     "end_time": "2024-02-15T20:49:13.943639400Z",
     "start_time": "2024-02-15T20:49:13.936413600Z"
    }
   },
   "id": "d72621f6da143be4",
   "execution_count": 3
  },
  {
   "cell_type": "code",
   "outputs": [],
   "source": [],
   "metadata": {
    "collapsed": false,
    "ExecuteTime": {
     "end_time": "2024-02-15T20:49:13.949480Z",
     "start_time": "2024-02-15T20:49:13.943073700Z"
    }
   },
   "id": "269f187e15a73bfb",
   "execution_count": 3
  }
 ],
 "metadata": {
  "kernelspec": {
   "display_name": "Python 3",
   "language": "python",
   "name": "python3"
  },
  "language_info": {
   "codemirror_mode": {
    "name": "ipython",
    "version": 2
   },
   "file_extension": ".py",
   "mimetype": "text/x-python",
   "name": "python",
   "nbconvert_exporter": "python",
   "pygments_lexer": "ipython2",
   "version": "2.7.6"
  }
 },
 "nbformat": 4,
 "nbformat_minor": 5
}
