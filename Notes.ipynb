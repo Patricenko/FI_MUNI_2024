{
 "cells": [
  {
   "cell_type": "markdown",
   "source": [
    "<h1>Spoznej FI</h1>\n",
    "<h2>Feedbacks</h2>\n",
    "<table>\n",
    "<tr>\n",
    "<th>Program</th>\n",
    "<th>Komentár</th>\n",
    "</tr>\n",
    "<tr>\n",
    "<th>Spoznávačky</th>\n",
    "<th>No comment - míňanie času skôr ku koncu</th>\n",
    "</tr>\n",
    "<tr>\n",
    "<th>Sp</th>\n",
    "<th>No comment - míňanie času skôr ku koncu</th>\n",
    "</tr>\n",
    "</table>\n",
    "<h2>Workshop: AI - Written text recognition</h2>\n",
    "<p>Sobota 1. workshop</p>"
   ],
   "metadata": {
    "collapsed": false
   },
   "id": "7073d58b677eff7a"
  },
  {
   "cell_type": "code",
   "outputs": [],
   "source": [
    "def photo_upload():\n",
    "    pass"
   ],
   "metadata": {
    "collapsed": false,
    "ExecuteTime": {
     "end_time": "2024-02-17T09:40:44.986663300Z",
     "start_time": "2024-02-17T09:40:44.864753800Z"
    }
   },
   "id": "515267dcc70a1fe0",
   "execution_count": 2
  },
  {
   "cell_type": "code",
   "outputs": [],
   "source": [],
   "metadata": {
    "collapsed": false,
    "ExecuteTime": {
     "end_time": "2024-02-17T09:40:45.028398200Z",
     "start_time": "2024-02-17T09:40:44.955730800Z"
    }
   },
   "id": "68ee953035637f1a",
   "execution_count": 2
  }
 ],
 "metadata": {
  "kernelspec": {
   "display_name": "Python 3 (ipykernel)",
   "language": "python",
   "name": "python3"
  },
  "language_info": {
   "codemirror_mode": {
    "name": "ipython",
    "version": 3
   },
   "file_extension": ".py",
   "mimetype": "text/x-python",
   "name": "python",
   "nbconvert_exporter": "python",
   "pygments_lexer": "ipython3",
   "version": "3.12.2"
  }
 },
 "nbformat": 4,
 "nbformat_minor": 5
}
